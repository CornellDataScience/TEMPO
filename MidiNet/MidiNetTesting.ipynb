{
 "cells": [
  {
   "cell_type": "code",
   "execution_count": 1,
   "metadata": {},
   "outputs": [
    {
     "name": "stderr",
     "output_type": "stream",
     "text": [
      "/anaconda3/lib/python3.6/importlib/_bootstrap.py:219: RuntimeWarning: compiletime version 3.5 of module 'tensorflow.python.framework.fast_tensor_util' does not match runtime version 3.6\n",
      "  return f(*args, **kwds)\n"
     ]
    }
   ],
   "source": [
    "from model import MidiNet"
   ]
  },
  {
   "cell_type": "code",
   "execution_count": 2,
   "metadata": {},
   "outputs": [],
   "source": [
    "import tensorflow as tf\n",
    "sess = tf.InteractiveSession()"
   ]
  },
  {
   "cell_type": "code",
   "execution_count": 3,
   "metadata": {},
   "outputs": [],
   "source": [
    "mn = MidiNet(sess)"
   ]
  },
  {
   "cell_type": "code",
   "execution_count": 6,
   "metadata": {},
   "outputs": [
    {
     "data": {
      "text/plain": [
       "False"
      ]
     },
     "execution_count": 6,
     "metadata": {},
     "output_type": "execute_result"
    }
   ],
   "source": [
    "mn.checkbool"
   ]
  },
  {
   "cell_type": "code",
   "execution_count": 8,
   "metadata": {},
   "outputs": [
    {
     "data": {
      "text/plain": [
       "[<tf.Variable 'generator/gen_cond_conv0/Weights:0' shape=(1, 128, 1, 16) dtype=float32_ref>,\n",
       " <tf.Variable 'generator/gen_cond_conv0/Bias:0' shape=(16,) dtype=float32_ref>,\n",
       " <tf.Variable 'generator/gen_cond_bn0/gamma:0' shape=(16,) dtype=float32_ref>,\n",
       " <tf.Variable 'generator/gen_cond_bn0/beta:0' shape=(16,) dtype=float32_ref>,\n",
       " <tf.Variable 'generator/gen_cond_conv1/Weights:0' shape=(2, 1, 16, 16) dtype=float32_ref>,\n",
       " <tf.Variable 'generator/gen_cond_conv1/Bias:0' shape=(16,) dtype=float32_ref>,\n",
       " <tf.Variable 'generator/gen_cond_bn1/gamma:0' shape=(16,) dtype=float32_ref>,\n",
       " <tf.Variable 'generator/gen_cond_bn1/beta:0' shape=(16,) dtype=float32_ref>,\n",
       " <tf.Variable 'generator/gen_cond_conv2/Weights:0' shape=(2, 1, 16, 16) dtype=float32_ref>,\n",
       " <tf.Variable 'generator/gen_cond_conv2/Bias:0' shape=(16,) dtype=float32_ref>,\n",
       " <tf.Variable 'generator/gen_cond_bn2/gamma:0' shape=(16,) dtype=float32_ref>,\n",
       " <tf.Variable 'generator/gen_cond_bn2/beta:0' shape=(16,) dtype=float32_ref>,\n",
       " <tf.Variable 'generator/gen_cond_conv3/Weights:0' shape=(2, 1, 16, 16) dtype=float32_ref>,\n",
       " <tf.Variable 'generator/gen_cond_conv3/Bias:0' shape=(16,) dtype=float32_ref>,\n",
       " <tf.Variable 'generator/gen_cond_bn3/gamma:0' shape=(16,) dtype=float32_ref>,\n",
       " <tf.Variable 'generator/gen_cond_bn3/beta:0' shape=(16,) dtype=float32_ref>,\n",
       " <tf.Variable 'generator/gen_lin0/Weights:0' shape=(113, 1024) dtype=float32_ref>,\n",
       " <tf.Variable 'generator/gen_lin0/Bias:0' shape=(1024,) dtype=float32_ref>,\n",
       " <tf.Variable 'generator/gen_bn0/gamma:0' shape=(1024,) dtype=float32_ref>,\n",
       " <tf.Variable 'generator/gen_bn0/beta:0' shape=(1024,) dtype=float32_ref>,\n",
       " <tf.Variable 'generator/gen_lin1/Weights:0' shape=(1037, 256) dtype=float32_ref>,\n",
       " <tf.Variable 'generator/gen_lin1/Bias:0' shape=(256,) dtype=float32_ref>,\n",
       " <tf.Variable 'generator/gen_bn1/gamma:0' shape=(256,) dtype=float32_ref>,\n",
       " <tf.Variable 'generator/gen_bn1/beta:0' shape=(256,) dtype=float32_ref>,\n",
       " <tf.Variable 'generator/gen_dconv2/Weights:0' shape=(2, 1, 128, 157) dtype=float32_ref>,\n",
       " <tf.Variable 'generator/gen_dconv2/Bias:0' shape=(128,) dtype=float32_ref>,\n",
       " <tf.Variable 'generator/gen_bn2/gamma:0' shape=(128,) dtype=float32_ref>,\n",
       " <tf.Variable 'generator/gen_bn2/beta:0' shape=(128,) dtype=float32_ref>,\n",
       " <tf.Variable 'generator/gen_dconv3/Weights:0' shape=(2, 1, 128, 157) dtype=float32_ref>,\n",
       " <tf.Variable 'generator/gen_dconv3/Bias:0' shape=(128,) dtype=float32_ref>,\n",
       " <tf.Variable 'generator/gen_bn3/gamma:0' shape=(128,) dtype=float32_ref>,\n",
       " <tf.Variable 'generator/gen_bn3/beta:0' shape=(128,) dtype=float32_ref>,\n",
       " <tf.Variable 'generator/gen_dconv4/Weights:0' shape=(2, 1, 128, 157) dtype=float32_ref>,\n",
       " <tf.Variable 'generator/gen_dconv4/Bias:0' shape=(128,) dtype=float32_ref>,\n",
       " <tf.Variable 'generator/gen_bn4/gamma:0' shape=(128,) dtype=float32_ref>,\n",
       " <tf.Variable 'generator/gen_bn4/beta:0' shape=(128,) dtype=float32_ref>,\n",
       " <tf.Variable 'generator/gen_dconv5/Weights:0' shape=(1, 128, 1, 157) dtype=float32_ref>,\n",
       " <tf.Variable 'generator/gen_dconv5/Bias:0' shape=(1,) dtype=float32_ref>]"
      ]
     },
     "execution_count": 8,
     "metadata": {},
     "output_type": "execute_result"
    }
   ],
   "source": [
    "mn.g_vars"
   ]
  },
  {
   "cell_type": "code",
   "execution_count": null,
   "metadata": {
    "collapsed": true
   },
   "outputs": [],
   "source": []
  }
 ],
 "metadata": {
  "kernelspec": {
   "display_name": "Python 3",
   "language": "python",
   "name": "python3"
  },
  "language_info": {
   "codemirror_mode": {
    "name": "ipython",
    "version": 3
   },
   "file_extension": ".py",
   "mimetype": "text/x-python",
   "name": "python",
   "nbconvert_exporter": "python",
   "pygments_lexer": "ipython3",
   "version": "3.6.3"
  }
 },
 "nbformat": 4,
 "nbformat_minor": 2
}
