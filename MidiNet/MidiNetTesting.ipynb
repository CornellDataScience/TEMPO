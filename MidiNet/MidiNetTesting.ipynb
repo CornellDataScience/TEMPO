{
 "cells": [
  {
   "cell_type": "code",
   "execution_count": 1,
   "metadata": {},
   "outputs": [
    {
     "name": "stderr",
     "output_type": "stream",
     "text": [
      "/anaconda3/lib/python3.6/importlib/_bootstrap.py:219: RuntimeWarning: compiletime version 3.5 of module 'tensorflow.python.framework.fast_tensor_util' does not match runtime version 3.6\n",
      "  return f(*args, **kwds)\n"
     ]
    }
   ],
   "source": [
    "from model import MidiNet"
   ]
  },
  {
   "cell_type": "code",
   "execution_count": 2,
   "metadata": {},
   "outputs": [],
   "source": [
    "import tensorflow as tf\n",
    "sess = tf.InteractiveSession()"
   ]
  },
  {
   "cell_type": "code",
   "execution_count": 3,
   "metadata": {},
   "outputs": [],
   "source": [
    "mn = MidiNet(sess)"
   ]
  },
  {
   "cell_type": "code",
   "execution_count": 6,
   "metadata": {},
   "outputs": [
    {
     "data": {
      "text/plain": [
       "False"
      ]
     },
     "execution_count": 6,
     "metadata": {},
     "output_type": "execute_result"
    }
   ],
   "source": [
    "mn.checkbool"
   ]
  },
  {
   "cell_type": "code",
   "execution_count": 7,
   "metadata": {},
   "outputs": [
    {
     "data": {
      "text/plain": [
       "[<tf.Variable 'discriminator/dis_conv0/Weights:0' shape=(1, 128, 15, 14) dtype=float32_ref>,\n",
       " <tf.Variable 'discriminator/dis_conv0/Bias:0' shape=(14,) dtype=float32_ref>,\n",
       " <tf.Variable 'discriminator/dis_conv1/Weights:0' shape=(4, 1, 27, 77) dtype=float32_ref>,\n",
       " <tf.Variable 'discriminator/dis_conv1/Bias:0' shape=(77,) dtype=float32_ref>,\n",
       " <tf.Variable 'discriminator/dis_bn1/gamma:0' shape=(77,) dtype=float32_ref>,\n",
       " <tf.Variable 'discriminator/dis_bn1/beta:0' shape=(77,) dtype=float32_ref>,\n",
       " <tf.Variable 'discriminator/dis_lin2/Weights:0' shape=(244, 1024) dtype=float32_ref>,\n",
       " <tf.Variable 'discriminator/dis_lin2/Bias:0' shape=(1024,) dtype=float32_ref>,\n",
       " <tf.Variable 'discriminator/dis_bn2/gamma:0' shape=(1024,) dtype=float32_ref>,\n",
       " <tf.Variable 'discriminator/dis_bn2/beta:0' shape=(1024,) dtype=float32_ref>,\n",
       " <tf.Variable 'discriminator/dis_lin3/Weights:0' shape=(1037, 1) dtype=float32_ref>,\n",
       " <tf.Variable 'discriminator/dis_lin3/Bias:0' shape=(1,) dtype=float32_ref>]"
      ]
     },
     "execution_count": 7,
     "metadata": {},
     "output_type": "execute_result"
    }
   ],
   "source": [
    "mn.d_vars"
   ]
  },
  {
   "cell_type": "code",
   "execution_count": null,
   "metadata": {
    "collapsed": true
   },
   "outputs": [],
   "source": []
  }
 ],
 "metadata": {
  "kernelspec": {
   "display_name": "Python 3",
   "language": "python",
   "name": "python3"
  },
  "language_info": {
   "codemirror_mode": {
    "name": "ipython",
    "version": 3
   },
   "file_extension": ".py",
   "mimetype": "text/x-python",
   "name": "python",
   "nbconvert_exporter": "python",
   "pygments_lexer": "ipython3",
   "version": "3.6.3"
  }
 },
 "nbformat": 4,
 "nbformat_minor": 2
}
