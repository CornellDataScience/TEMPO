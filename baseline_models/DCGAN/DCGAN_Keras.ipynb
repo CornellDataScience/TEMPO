{
 "cells": [
  {
   "cell_type": "code",
   "execution_count": 64,
   "metadata": {},
   "outputs": [],
   "source": [
    "from __future__ import print_function, division\n",
    "from tqdm import tqdm\n",
    "tqdm.monitor_interval = 0\n",
    "\n",
    "from keras.layers import Input, Dense, Flatten, Reshape\n",
    "from keras.datasets import mnist\n",
    "from keras.layers import BatchNormalization, ZeroPadding2D, Activation\n",
    "from keras.layers.advanced_activations import LeakyReLU\n",
    "from keras.layers import UpSampling2D, Conv2D, MaxPooling2D\n",
    "from keras.models import Sequential, Model\n",
    "from keras.optimizers import Adam\n",
    "\n",
    "import matplotlib.pyplot as plt\n",
    "import sys\n",
    "import numpy as np"
   ]
  },
  {
   "cell_type": "code",
   "execution_count": 65,
   "metadata": {},
   "outputs": [
    {
     "data": {
      "text/plain": [
       "(60000, 28, 28, 1)"
      ]
     },
     "execution_count": 65,
     "metadata": {},
     "output_type": "execute_result"
    }
   ],
   "source": [
    "(X_train, Y_train), (X_test, Y_test) = mnist.load_data()\n",
    "X_train.shape, Y_train.shape, X_test.shape, Y_test.shape\n",
    "\n",
    "X_train = X_train.reshape(X_train.shape[0], 28, 28, 1)\n",
    "X_test = X_test.reshape(X_test.shape[0], 28, 28, 1)\n",
    "X_train = X_train.astype('float32')\n",
    "X_train = (X_train - 127.5) / 127.5\n",
    "X_train.shape"
   ]
  },
  {
   "cell_type": "code",
   "execution_count": 66,
   "metadata": {},
   "outputs": [],
   "source": [
    "img_rows = 28\n",
    "img_cols = 28\n",
    "channels = 1\n",
    "img_shape = (img_rows,img_cols,channels)\n",
    "optimizer = Adam(0.0002,0.5)"
   ]
  },
  {
   "cell_type": "code",
   "execution_count": 67,
   "metadata": {},
   "outputs": [],
   "source": [
    "def save_imgs(generator,epoch):\n",
    "        r,c = 5,5\n",
    "        noise = np.random.normal(0, 1, (r * c, 100))\n",
    "        gen_imgs = generator.predict(noise)\n",
    "\n",
    "        # Rescale images 0 - 1\n",
    "        gen_imgs = 0.5 * gen_imgs + 0.5\n",
    "\n",
    "        fig, axs = plt.subplots(r, c)\n",
    "        cnt = 0\n",
    "        for i in range(r):\n",
    "            for j in range(c):\n",
    "                axs[i,j].imshow(gen_imgs[cnt, :,:,0], cmap='gray')\n",
    "                axs[i,j].axis('off')\n",
    "                cnt += 1\n",
    "        fig.savefig(\"mnist_%d.png\" % epoch)\n",
    "        plt.close()"
   ]
  },
  {
   "cell_type": "code",
   "execution_count": 68,
   "metadata": {},
   "outputs": [],
   "source": [
    "def build_generator():\n",
    "    noise_shape = (100,)\n",
    "    model = Sequential()\n",
    "    model.add(Dense(128*7*7,input_shape=noise_shape))\n",
    "    model.add(BatchNormalization())\n",
    "    model.add(Activation('relu'))\n",
    "    model.add(Reshape((7,7,128),input_shape=(128*7*7,)))\n",
    "    model.add(UpSampling2D(size=(2,2)))\n",
    "    model.add(Conv2D(64,(5,5),padding='same'))\n",
    "    model.add(BatchNormalization())\n",
    "    model.add(Activation('relu'))\n",
    "    model.add(UpSampling2D(size=(2,2)))\n",
    "    model.add(Conv2D(32,(5,5),padding='same'))\n",
    "    model.add(BatchNormalization())\n",
    "    model.add(Activation('tanh'))\n",
    "    model.add(Conv2D(1,(5,5),padding='same'))\n",
    "    model.summary()\n",
    "\n",
    "    noise = Input(shape=noise_shape)\n",
    "    img = model(noise)\n",
    "    return Model(noise, img)"
   ]
  },
  {
   "cell_type": "code",
   "execution_count": 69,
   "metadata": {},
   "outputs": [],
   "source": [
    "def build_discriminator():\n",
    "    img_shape = (img_rows,img_cols, channels)\n",
    "    model = Sequential()\n",
    "    model.add(Conv2D(32,(5,5),strides=(2,2),padding='same',input_shape=img_shape))\n",
    "    model.add(BatchNormalization())\n",
    "    model.add(LeakyReLU(alpha=0.2))\n",
    "    model.add(Conv2D(164,(5,5),strides=(2,2),padding='same'))\n",
    "    model.add(BatchNormalization())\n",
    "    model.add(LeakyReLU(alpha=0.2))\n",
    "    model.add(Conv2D(128,(5,5),strides=(2,2),padding='same'))\n",
    "    model.add(BatchNormalization())\n",
    "    model.add(Activation('tanh'))\n",
    "    model.add(Flatten())\n",
    "    model.add(Dense(1, activation='sigmoid'))\n",
    "    model.summary()\n",
    "\n",
    "    img = Input(shape=img_shape)\n",
    "    validity = model(img)\n",
    "    return Model(img, validity)"
   ]
  },
  {
   "cell_type": "code",
   "execution_count": 70,
   "metadata": {},
   "outputs": [
    {
     "name": "stdout",
     "output_type": "stream",
     "text": [
      "_________________________________________________________________\n",
      "Layer (type)                 Output Shape              Param #   \n",
      "=================================================================\n",
      "dense_10 (Dense)             (None, 6272)              633472    \n",
      "_________________________________________________________________\n",
      "batch_normalization_28 (Batc (None, 6272)              25088     \n",
      "_________________________________________________________________\n",
      "activation_20 (Activation)   (None, 6272)              0         \n",
      "_________________________________________________________________\n",
      "reshape_6 (Reshape)          (None, 7, 7, 128)         0         \n",
      "_________________________________________________________________\n",
      "up_sampling2d_11 (UpSampling (None, 14, 14, 128)       0         \n",
      "_________________________________________________________________\n",
      "conv2d_28 (Conv2D)           (None, 14, 14, 64)        204864    \n",
      "_________________________________________________________________\n",
      "batch_normalization_29 (Batc (None, 14, 14, 64)        256       \n",
      "_________________________________________________________________\n",
      "activation_21 (Activation)   (None, 14, 14, 64)        0         \n",
      "_________________________________________________________________\n",
      "up_sampling2d_12 (UpSampling (None, 28, 28, 64)        0         \n",
      "_________________________________________________________________\n",
      "conv2d_29 (Conv2D)           (None, 28, 28, 32)        51232     \n",
      "_________________________________________________________________\n",
      "batch_normalization_30 (Batc (None, 28, 28, 32)        128       \n",
      "_________________________________________________________________\n",
      "activation_22 (Activation)   (None, 28, 28, 32)        0         \n",
      "_________________________________________________________________\n",
      "conv2d_30 (Conv2D)           (None, 28, 28, 1)         801       \n",
      "=================================================================\n",
      "Total params: 915,841\n",
      "Trainable params: 903,105\n",
      "Non-trainable params: 12,736\n",
      "_________________________________________________________________\n"
     ]
    }
   ],
   "source": [
    "generator = build_generator()"
   ]
  },
  {
   "cell_type": "code",
   "execution_count": 71,
   "metadata": {},
   "outputs": [
    {
     "name": "stdout",
     "output_type": "stream",
     "text": [
      "_________________________________________________________________\n",
      "Layer (type)                 Output Shape              Param #   \n",
      "=================================================================\n",
      "conv2d_31 (Conv2D)           (None, 14, 14, 32)        832       \n",
      "_________________________________________________________________\n",
      "batch_normalization_31 (Batc (None, 14, 14, 32)        128       \n",
      "_________________________________________________________________\n",
      "leaky_re_lu_9 (LeakyReLU)    (None, 14, 14, 32)        0         \n",
      "_________________________________________________________________\n",
      "conv2d_32 (Conv2D)           (None, 7, 7, 164)         131364    \n",
      "_________________________________________________________________\n",
      "batch_normalization_32 (Batc (None, 7, 7, 164)         656       \n",
      "_________________________________________________________________\n",
      "leaky_re_lu_10 (LeakyReLU)   (None, 7, 7, 164)         0         \n",
      "_________________________________________________________________\n",
      "conv2d_33 (Conv2D)           (None, 4, 4, 128)         524928    \n",
      "_________________________________________________________________\n",
      "batch_normalization_33 (Batc (None, 4, 4, 128)         512       \n",
      "_________________________________________________________________\n",
      "activation_23 (Activation)   (None, 4, 4, 128)         0         \n",
      "_________________________________________________________________\n",
      "flatten_4 (Flatten)          (None, 2048)              0         \n",
      "_________________________________________________________________\n",
      "dense_11 (Dense)             (None, 1)                 2049      \n",
      "=================================================================\n",
      "Total params: 660,469\n",
      "Trainable params: 659,821\n",
      "Non-trainable params: 648\n",
      "_________________________________________________________________\n"
     ]
    }
   ],
   "source": [
    "discriminator = build_discriminator()"
   ]
  },
  {
   "cell_type": "code",
   "execution_count": 72,
   "metadata": {},
   "outputs": [],
   "source": [
    "generator.compile(loss='binary_crossentropy',optimizer=optimizer)\n",
    "discriminator.compile(loss='binary_crossentropy',optimizer=optimizer)"
   ]
  },
  {
   "cell_type": "code",
   "execution_count": 73,
   "metadata": {},
   "outputs": [],
   "source": [
    "def build_gan(gen,dis):\n",
    "    dis.trainable = False\n",
    "    inp = Input(shape=(100,))\n",
    "    out = dis(gen(inp))\n",
    "    return Model(inp,out)"
   ]
  },
  {
   "cell_type": "code",
   "execution_count": 74,
   "metadata": {},
   "outputs": [
    {
     "name": "stdout",
     "output_type": "stream",
     "text": [
      "_________________________________________________________________\n",
      "Layer (type)                 Output Shape              Param #   \n",
      "=================================================================\n",
      "input_18 (InputLayer)        (None, 100)               0         \n",
      "_________________________________________________________________\n",
      "model_15 (Model)             (None, 28, 28, 1)         915841    \n",
      "_________________________________________________________________\n",
      "model_16 (Model)             (None, 1)                 660469    \n",
      "=================================================================\n",
      "Total params: 1,576,310\n",
      "Trainable params: 903,105\n",
      "Non-trainable params: 673,205\n",
      "_________________________________________________________________\n"
     ]
    }
   ],
   "source": [
    "gan = build_gan(generator,discriminator)\n",
    "gan.summary()\n",
    "gan.compile(loss='binary_crossentropy',optimizer=optimizer)"
   ]
  },
  {
   "cell_type": "code",
   "execution_count": 75,
   "metadata": {},
   "outputs": [],
   "source": [
    "def train(epochs=10, batch_size=128):\n",
    "    batch_count = X_train.shape[0] // batch_size\n",
    "    \n",
    "    for i in range(epochs):\n",
    "        for j in tqdm(range(batch_count)):\n",
    "            # Input for the generator\n",
    "            noise_input = np.random.rand(batch_size, 100)\n",
    "            \n",
    "            # getting random images from X_train of size=batch_size \n",
    "            # these are the real images that will be fed to the discriminator\n",
    "            image_batch = X_train[np.random.randint(0, X_train.shape[0], size=batch_size)]\n",
    "            \n",
    "            # these are the predicted images from the generator\n",
    "            predictions = generator.predict(noise_input, batch_size=batch_size)\n",
    "            \n",
    "            # the discriminator takes in the real images and the generated images\n",
    "            X = np.concatenate([predictions, image_batch])\n",
    "            \n",
    "            # labels for the discriminator\n",
    "            y_discriminator = [0]*batch_size + [1]*batch_size\n",
    "            \n",
    "            # Let's train the discriminator\n",
    "            discriminator.trainable = True\n",
    "            discriminator.train_on_batch(X, y_discriminator)\n",
    "            \n",
    "            # Let's train the generator\n",
    "            noise_input = np.random.rand(batch_size, 100)\n",
    "            y_generator = [1]*batch_size\n",
    "            discriminator.trainable = False\n",
    "            gan.train_on_batch(noise_input, y_generator)\n",
    "        save_imgs(generator,i)"
   ]
  },
  {
   "cell_type": "code",
   "execution_count": null,
   "metadata": {},
   "outputs": [
    {
     "name": "stderr",
     "output_type": "stream",
     "text": [
      "100%|██████████| 468/468 [22:55<00:00,  2.94s/it]\n",
      "100%|██████████| 468/468 [23:46<00:00,  3.05s/it]\n",
      "100%|██████████| 468/468 [23:03<00:00,  2.96s/it]\n",
      "100%|██████████| 468/468 [22:34<00:00,  2.89s/it]\n",
      "100%|██████████| 468/468 [22:51<00:00,  2.93s/it]\n",
      "100%|██████████| 468/468 [21:44<00:00,  2.79s/it]\n",
      "100%|██████████| 468/468 [23:33<00:00,  3.02s/it]\n",
      "100%|██████████| 468/468 [23:25<00:00,  3.00s/it]\n",
      "100%|██████████| 468/468 [23:20<00:00,  2.99s/it]\n",
      "100%|██████████| 468/468 [23:25<00:00,  3.00s/it]\n",
      "100%|██████████| 468/468 [23:29<00:00,  3.01s/it]\n",
      "100%|██████████| 468/468 [23:30<00:00,  3.01s/it]\n",
      "100%|██████████| 468/468 [23:31<00:00,  3.02s/it]\n",
      "100%|██████████| 468/468 [23:28<00:00,  3.01s/it]\n",
      "100%|██████████| 468/468 [23:13<00:00,  2.98s/it]\n",
      "100%|██████████| 468/468 [23:29<00:00,  3.01s/it]\n",
      "100%|██████████| 468/468 [23:28<00:00,  3.01s/it]\n",
      "100%|██████████| 468/468 [23:30<00:00,  3.01s/it]\n",
      "100%|██████████| 468/468 [23:16<00:00,  2.98s/it]\n",
      "100%|██████████| 468/468 [22:45<00:00,  2.92s/it]\n",
      "100%|██████████| 468/468 [21:19<00:00,  2.73s/it]\n",
      "100%|██████████| 468/468 [21:19<00:00,  2.73s/it]\n",
      "100%|██████████| 468/468 [21:21<00:00,  2.74s/it]\n",
      " 96%|█████████▌| 450/468 [20:36<00:49,  2.75s/it]"
     ]
    }
   ],
   "source": [
    "train(30, 128)"
   ]
  },
  {
   "cell_type": "code",
   "execution_count": null,
   "metadata": {},
   "outputs": [],
   "source": []
  }
 ],
 "metadata": {
  "kernelspec": {
   "display_name": "Python 3",
   "language": "python",
   "name": "python3"
  },
  "language_info": {
   "codemirror_mode": {
    "name": "ipython",
    "version": 3
   },
   "file_extension": ".py",
   "mimetype": "text/x-python",
   "name": "python",
   "nbconvert_exporter": "python",
   "pygments_lexer": "ipython3",
   "version": "3.6.4"
  }
 },
 "nbformat": 4,
 "nbformat_minor": 2
}
